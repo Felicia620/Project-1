{
 "cells": [
  {
   "cell_type": "code",
   "execution_count": 14,
   "metadata": {},
   "outputs": [],
   "source": [
    "# Dependencies\n",
    "import numpy as np\n",
    "import pandas as pd\n",
    "import matplotlib.pyplot as plt\n",
    "import requests\n",
    "from census import Census\n",
    "from us import states\n",
    "\n",
    "# Census API Key\n",
    "from config import api_key\n",
    "c = Census(api_key, year=2015)"
   ]
  },
  {
   "cell_type": "code",
   "execution_count": 15,
   "metadata": {},
   "outputs": [
    {
     "name": "stdout",
     "output_type": "stream",
     "text": [
      "33120\n",
      "          Name  Household Income  Asian Amer.  Black Amer.  Hispanic Amer.  \\\n",
      "0  ZCTA5 12810           57500.0          2.0          0.0            14.0   \n",
      "1  ZCTA5 12811      -666666666.0          0.0          0.0             0.0   \n",
      "2  ZCTA5 12812           49583.0          0.0          0.0             0.0   \n",
      "3  ZCTA5 12814           58176.0         14.0         36.0            32.0   \n",
      "4  ZCTA5 12815           60458.0          0.0         15.0             6.0   \n",
      "\n",
      "   White Amer.  Other  B05002_001E state Zipcode  \n",
      "0        717.0    0.0        724.0    36   12810  \n",
      "1         67.0    0.0         67.0    36   12811  \n",
      "2         58.0    0.0         58.0    36   12812  \n",
      "3       1152.0   80.0       1282.0    36   12814  \n",
      "4       1007.0    0.0       1103.0    36   12815  \n"
     ]
    }
   ],
   "source": [
    "#Use variable keys to extract data for api\n",
    "\n",
    "census_data_2015 = c.acs5.get((\"NAME\", \"B19013_001E\",\"B01001D_001E\",\"B01001B_001E\",\"B01001I_001E\", \"B01001A_001E\", \"B01001F_001E\", \"B05002_001E\"), {'for': 'zip code tabulation area:*'})\n",
    "\n",
    "census_data_2015 = pd.DataFrame(census_data_2015)\n",
    "\n",
    "census_data_2015_df = census_data_2015.rename(columns={\"B19013_001E\": \"Household Income\",\n",
    "                                                       \"B01001D_001E\": \"Asian Amer.\", \n",
    "                                                       \"B01001B_001E\": \"Black Amer.\",\n",
    "                                                       \"B01001I_001E\": \"Hispanic Amer.\",\n",
    "                                                       \"B01001A_001E\": \"White Amer.\",\n",
    "                                                       \"B01001F_001E\": \"Other\",\n",
    "                                                       \"NAME\": \"Name\", \"zip code tabulation area\": \"Zipcode\"})\n",
    "\n",
    "print(len(census_data_2015_df))\n",
    "print(census_data_2015_df.head())"
   ]
  },
  {
   "cell_type": "code",
   "execution_count": 16,
   "metadata": {},
   "outputs": [
    {
     "name": "stdout",
     "output_type": "stream",
     "text": [
      "48    1935\n",
      "42    1798\n",
      "36    1794\n",
      "06    1764\n",
      "17    1383\n",
      "39    1197\n",
      "29    1024\n",
      "26     987\n",
      "12     983\n",
      "19     934\n",
      "51     896\n",
      "27     885\n",
      "37     808\n",
      "18     775\n",
      "55     774\n",
      "21     769\n",
      "13     735\n",
      "54     706\n",
      "20     698\n",
      "40     648\n",
      "01     642\n",
      "47     628\n",
      "53     598\n",
      "34     595\n",
      "05     591\n",
      "31     581\n",
      "25     537\n",
      "08     525\n",
      "22     515\n",
      "24     468\n",
      "23     432\n",
      "45     424\n",
      "28     423\n",
      "41     416\n",
      "04     405\n",
      "38     382\n",
      "46     372\n",
      "35     368\n",
      "30     361\n",
      "49     288\n",
      "09     282\n",
      "16     278\n",
      "50     255\n",
      "33     248\n",
      "02     238\n",
      "56     178\n",
      "32     175\n",
      "72     131\n",
      "15      94\n",
      "44      77\n",
      "10      67\n",
      "11      53\n",
      "Name: state, dtype: int64\n"
     ]
    }
   ],
   "source": [
    "# View Count of per state \n",
    "\n",
    "print(census_data_2015_df['state'].value_counts())"
   ]
  },
  {
   "cell_type": "code",
   "execution_count": 17,
   "metadata": {},
   "outputs": [
    {
     "name": "stdout",
     "output_type": "stream",
     "text": [
      "Name                33120\n",
      "Household Income    32157\n",
      "Asian Amer.         33120\n",
      "Black Amer.         33120\n",
      "Hispanic Amer.      33120\n",
      "White Amer.         33120\n",
      "Other               33120\n",
      "B05002_001E         33120\n",
      "state               33120\n",
      "Zipcode             33120\n",
      "dtype: int64\n"
     ]
    }
   ],
   "source": [
    "print(census_data_2015_df.count())"
   ]
  },
  {
   "cell_type": "code",
   "execution_count": 18,
   "metadata": {},
   "outputs": [
    {
     "data": {
      "text/plain": [
       "dtype('int64')"
      ]
     },
     "execution_count": 18,
     "metadata": {},
     "output_type": "execute_result"
    }
   ],
   "source": [
    "# Create A Datatype for State so that loc method can work\n",
    "\n",
    "census_data_2015_df['state'] = pd.to_numeric(census_data_2015_df['state'])\n",
    "census_data_2015_df['state'].dtype"
   ]
  },
  {
   "cell_type": "code",
   "execution_count": 20,
   "metadata": {},
   "outputs": [
    {
     "name": "stdout",
     "output_type": "stream",
     "text": [
      "              Name  Household Income  Asian Amer.  Black Amer.  \\\n",
      "9602   ZCTA5 07001           68036.0       3925.0       4449.0   \n",
      "9603   ZCTA5 07002           54413.0       5822.0       7095.0   \n",
      "9604   ZCTA5 07003           72791.0       4325.0       8519.0   \n",
      "9605   ZCTA5 07004          106691.0        128.0          0.0   \n",
      "9606   ZCTA5 07005          100582.0       1085.0        516.0   \n",
      "...            ...               ...          ...          ...   \n",
      "32652  ZCTA5 08011               NaN          0.0          0.0   \n",
      "32873  ZCTA5 07977               NaN         12.0         39.0   \n",
      "32926  ZCTA5 08038               NaN          0.0          0.0   \n",
      "33081  ZCTA5 08073               NaN          0.0          0.0   \n",
      "33098  ZCTA5 07846               NaN          0.0          0.0   \n",
      "\n",
      "       Hispanic Amer.  White Amer.   Other  B05002_001E  state Zipcode  \n",
      "9602           2925.0       9123.0   423.0      18295.0     34   07001  \n",
      "9603          15375.0      46266.0  4194.0      65378.0     34   07002  \n",
      "9604          12854.0      29693.0  3624.0      47840.0     34   07003  \n",
      "9605            282.0       7376.0    16.0       7556.0     34   07004  \n",
      "9606           1309.0      13180.0   267.0      15315.0     34   07005  \n",
      "...               ...          ...     ...          ...    ...     ...  \n",
      "32652             0.0         45.0     0.0         70.0     34   08011  \n",
      "32873           199.0        509.0    49.0        609.0     34   07977  \n",
      "32926             0.0         85.0     0.0         85.0     34   08038  \n",
      "33081             0.0        311.0     0.0        331.0     34   08073  \n",
      "33098            45.0         95.0     0.0         95.0     34   07846  \n",
      "\n",
      "[595 rows x 10 columns]\n"
     ]
    }
   ],
   "source": [
    "#New Jersey Only DataFrame for 2018\n",
    "\n",
    "New_Jersey_Census_2015 = census_data_2015_df.loc[census_data_2015_df[\"state\"] == 34,:]\n",
    "print(New_Jersey_Census_2015)"
   ]
  },
  {
   "cell_type": "code",
   "execution_count": 21,
   "metadata": {},
   "outputs": [
    {
     "name": "stdout",
     "output_type": "stream",
     "text": [
      "              Name  Household Income  Asian Amer.  Black Amer.  \\\n",
      "9602   ZCTA5 07001           68036.0       3925.0       4449.0   \n",
      "9603   ZCTA5 07002           54413.0       5822.0       7095.0   \n",
      "9604   ZCTA5 07003           72791.0       4325.0       8519.0   \n",
      "9605   ZCTA5 07004          106691.0        128.0          0.0   \n",
      "9606   ZCTA5 07005          100582.0       1085.0        516.0   \n",
      "...            ...               ...          ...          ...   \n",
      "32652  ZCTA5 08011               NaN          0.0          0.0   \n",
      "32873  ZCTA5 07977               NaN         12.0         39.0   \n",
      "32926  ZCTA5 08038               NaN          0.0          0.0   \n",
      "33081  ZCTA5 08073               NaN          0.0          0.0   \n",
      "33098  ZCTA5 07846               NaN          0.0          0.0   \n",
      "\n",
      "       Hispanic Amer.  White Amer.   Other  state Zipcode  \n",
      "9602           2925.0       9123.0   423.0     34   07001  \n",
      "9603          15375.0      46266.0  4194.0     34   07002  \n",
      "9604          12854.0      29693.0  3624.0     34   07003  \n",
      "9605            282.0       7376.0    16.0     34   07004  \n",
      "9606           1309.0      13180.0   267.0     34   07005  \n",
      "...               ...          ...     ...    ...     ...  \n",
      "32652             0.0         45.0     0.0     34   08011  \n",
      "32873           199.0        509.0    49.0     34   07977  \n",
      "32926             0.0         85.0     0.0     34   08038  \n",
      "33081             0.0        311.0     0.0     34   08073  \n",
      "33098            45.0         95.0     0.0     34   07846  \n",
      "\n",
      "[595 rows x 9 columns]\n"
     ]
    }
   ],
   "source": [
    "#Dropping Wrong Column - Accidentally added another column so it needs to be removed ...\n",
    "\n",
    "#Below is the dataframe for New Jersey 2015\n",
    "\n",
    "Updated_New_Jersey_Census_2015 = New_Jersey_Census_2015.drop([\"B05002_001E\"], axis=1)\n",
    "\n",
    "print(Updated_New_Jersey_Census_2015)"
   ]
  },
  {
   "cell_type": "code",
   "execution_count": 29,
   "metadata": {
    "scrolled": true
   },
   "outputs": [],
   "source": [
    "Updated_New_Jersey_Census_2015.to_csv(\"../Project-1/2015CensusData.csv\")"
   ]
  },
  {
   "cell_type": "code",
   "execution_count": null,
   "metadata": {},
   "outputs": [],
   "source": []
  }
 ],
 "metadata": {
  "kernelspec": {
   "display_name": "Python 3",
   "language": "python",
   "name": "python3"
  },
  "language_info": {
   "codemirror_mode": {
    "name": "ipython",
    "version": 3
   },
   "file_extension": ".py",
   "mimetype": "text/x-python",
   "name": "python",
   "nbconvert_exporter": "python",
   "pygments_lexer": "ipython3",
   "version": "3.6.10"
  }
 },
 "nbformat": 4,
 "nbformat_minor": 4
}
