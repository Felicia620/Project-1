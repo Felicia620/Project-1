{
 "cells": [
  {
   "cell_type": "code",
   "execution_count": null,
   "metadata": {},
   "outputs": [],
   "source": [
    "#Dependencies\n",
    "\n",
    "!pip install pgeocode\n",
    "import pgeocode\n",
    "import pandas as pd\n",
    "\n",
    "import numpy as np\n",
    "import matplotlib.pyplot as plt\n",
    "import requests\n",
    "from census import Census\n",
    "import gmaps\n",
    "from gmap_config import gkey\n",
    "\n",
    "file_2015 = \"/Users/ryan/Desktop/bootcamp/group1/Project-1/other/2015CensusData.csv\"\n",
    "file_2016 = \"/Users/ryan/Desktop/bootcamp/group1/Project-1/other/NewJerseyCensus2016.csv\"\n",
    "file_2017 = \"/Users/ryan/Desktop/bootcamp/group1/Project-1/ryan/2017CensusData.csv\"\n",
    "file_2018 = \"/Users/ryan/Desktop/bootcamp/group1/Project-1/other/2018CensusData.csv\"\n",
    "file_2019 = \"/Users/ryan/Desktop/bootcamp/group1/Project-1/other/2019CensusData.csv\""
   ]
  },
  {
   "cell_type": "code",
   "execution_count": null,
   "metadata": {},
   "outputs": [],
   "source": [
    "file_2015_df = pd.read_csv(file_2015)\n",
    "file_2016_df = pd.read_csv(file_2016)\n",
    "file_2017_df = pd.read_csv(file_2017)\n",
    "file_2018_df = pd.read_csv(file_2018)\n",
    "file_2019_df = pd.read_csv(file_2019)    "
   ]
  },
  {
   "cell_type": "code",
   "execution_count": null,
   "metadata": {},
   "outputs": [],
   "source": [
    "file_2016_df_new = file_2016_df.rename(columns={\"Household Income\": \"Household Income\",\n",
    "                                             \"Asian American\": \"Asian Amer.\",\n",
    "                                              \"Black American\": \"Black Amer.\",\n",
    "                                               \"Hispanic American\":\"Hispanic Amer.\",\n",
    "                                               \"White American\":\"White Amer.\",\n",
    "                                               \"Other\":\"Other\",\n",
    "                                               \"state\": \"state\",\n",
    "                                               \"Zip Code\": \"Zipcode\"})\n",
    "\n",
    "print(file_2016_df_new)"
   ]
  },
  {
   "cell_type": "code",
   "execution_count": null,
   "metadata": {},
   "outputs": [],
   "source": [
    "#eg. merge_df = pd.merge(info_df, items_df, on=\"customer_id\")\n",
    "\n",
    "merge_df_1 = pd.merge(file_2015_df, file_2016_df_new, on = \"Zipcode\")\n",
    "print(merge_df_1)"
   ]
  },
  {
   "cell_type": "code",
   "execution_count": null,
   "metadata": {},
   "outputs": [],
   "source": [
    "merge_df_1[\"Total_1_Household Income\"] = merge_df_1[\"Household Income_x\"] + merge_df_1[\"Household Income_y\"]\n",
    "merge_df_1[\"Total_1_Asian Amer.\"] = merge_df_1[\"Asian Amer._x\"] + merge_df_1[\"Asian Amer._y\"]\n",
    "merge_df_1[\"Total_1_Black Amer.\"] = merge_df_1[\"Black Amer._x\"] + merge_df_1[\"Black Amer._y\"]\n",
    "merge_df_1[\"Total_1_Hispanic Amer.\"] = merge_df_1[\"Hispanic Amer._x\"] + merge_df_1[\"Hispanic Amer._y\"]\n",
    "merge_df_1[\"Total_1_White Amer.\"] = merge_df_1[\"White Amer._x\"] + merge_df_1[\"White Amer._y\"]\n",
    "merge_df_1[\"Total_1_Other\"] = merge_df_1[\"Other_x\"] + merge_df_1[\"Other_y\"]\n",
    "merge_df_1[\"Total_1_Zipcode\"] = merge_df_1[\"Zipcode\"]\n",
    "\n",
    "print(merge_df_1.head())\n"
   ]
  },
  {
   "cell_type": "code",
   "execution_count": null,
   "metadata": {},
   "outputs": [],
   "source": [
    "updated_merge_df_1 = merge_df_1.drop([\"Unnamed: 0_x\", \"Name_y\", \"Name_x\",\"Household Income_x\",\"Household Income_y\",\"Asian Amer._x\",\"Asian Amer._y\",\"Black Amer._x\", \"Black Amer._y\",\"Hispanic Amer._x\",\"Hispanic Amer._y\",\"White Amer._x\",\"White Amer._y\",\"Other_x\", \"Other_y\", \"state_x\", \"Total_1_Zipcode\"], axis=1)\n",
    "print(updated_merge_df_1.head())                               \n",
    "                                 "
   ]
  },
  {
   "cell_type": "code",
   "execution_count": null,
   "metadata": {},
   "outputs": [],
   "source": [
    "#merging df_1 with 2017\n",
    "\n",
    "merge_df_2 = pd.merge(updated_merge_df_1,file_2017_df, on=\"Zipcode\")\n",
    "print(merge_df_2.head())"
   ]
  },
  {
   "cell_type": "code",
   "execution_count": null,
   "metadata": {},
   "outputs": [],
   "source": [
    "merge_df_2[\"Total_2_Household Income\"] = merge_df_2[\"Total_1_Household Income\"] + merge_df_2[\"Household Income\"]\n",
    "merge_df_2[\"Total_2_Asian Amer.\"] = merge_df_2[\"Total_1_Asian Amer.\"] + merge_df_2[\"Asian Amer.\"]\n",
    "merge_df_2[\"Total_2_Black Amer.\"] = merge_df_2[\"Total_1_Black Amer.\"] + merge_df_2[\"Black Amer.\"]\n",
    "merge_df_2[\"Total_2_Hispanic Amer.\"] = merge_df_2[\"Total_1_Hispanic Amer.\"] + merge_df_2[\"Hispanic Amer.\"]\n",
    "merge_df_2[\"Total_2_White Amer.\"] = merge_df_2[\"Total_1_White Amer.\"] + merge_df_2[\"White Amer.\"]\n",
    "merge_df_2[\"Total_2_Other\"] = merge_df_2[\"Total_1_Other\"] + merge_df_2[\"Other\"]\n",
    "merge_df_2[\"Total_2_Zipcode\"] = merge_df_2[\"Zipcode\"]\n",
    "\n",
    "print(merge_df_2.head())"
   ]
  },
  {
   "cell_type": "code",
   "execution_count": null,
   "metadata": {},
   "outputs": [],
   "source": [
    "##Updated_New_Jersey_Census_2018 = New_Jersey_Census_2018.drop([\"B05002_001E\"], axis=1)\n",
    "\n",
    "updated_merge_df_2 = merge_df_2.drop([\"Household Income\", \"Asian Amer.\",\"Black Amer.\", \"Hispanic Amer.\",\"Unnamed: 0_y\", \"state_y\",\"Total_1_Household Income\",\"Total_1_Asian Amer.\",\"Total_1_Black Amer.\",\"Total_1_Hispanic Amer.\",\"Total_1_White Amer.\", \"Total_1_Other\",\"White Amer.\", \"Other\", \"Total_2_Zipcode\"], axis=1)\n",
    "print(updated_merge_df_2.head())  "
   ]
  },
  {
   "cell_type": "code",
   "execution_count": null,
   "metadata": {},
   "outputs": [],
   "source": [
    "#merging df_2 with 2018\n",
    "\n",
    "merge_df_3 = pd.merge(updated_merge_df_2,file_2018_df, on = \"Zipcode\")\n",
    "print(merge_df_3.head())"
   ]
  },
  {
   "cell_type": "code",
   "execution_count": null,
   "metadata": {},
   "outputs": [],
   "source": [
    "merge_df_3[\"Total_3_Household Income\"] = merge_df_3[\"Total_2_Household Income\"] + merge_df_3[\"Household Income\"]\n",
    "merge_df_3[\"Total_3_Asian Amer.\"] = merge_df_3[\"Total_2_Asian Amer.\"] + merge_df_3[\"Asian Amer.\"]\n",
    "merge_df_3[\"Total_3_Black Amer.\"] = merge_df_3[\"Total_2_Black Amer.\"] + merge_df_3[\"Black Amer.\"]\n",
    "merge_df_3[\"Total_3_Hispanic Amer.\"] = merge_df_3[\"Total_2_Hispanic Amer.\"] + merge_df_3[\"Hispanic Amer.\"]\n",
    "merge_df_3[\"Total_3_White Amer.\"] = merge_df_3[\"Total_2_White Amer.\"] + merge_df_3[\"White Amer.\"]\n",
    "merge_df_3[\"Total_3_Other\"] = merge_df_3[\"Total_2_Other\"] + merge_df_3[\"Other\"]\n",
    "merge_df_3[\"Total_3_Zipcode\"] = merge_df_3[\"Zipcode\"]\n",
    "\n",
    "print(merge_df_3.head())"
   ]
  },
  {
   "cell_type": "code",
   "execution_count": null,
   "metadata": {},
   "outputs": [],
   "source": [
    "updated_merge_df_3 = merge_df_3.drop([\"Unnamed: 0_x\",\"Name_x\",\"state_x\", \"Unnamed: 0_y\", \"Name_y\", \"Household Income\", \"Asian Amer.\", \"Black Amer.\", \"Hispanic Amer.\", \"White Amer.\", \"Other\", \"Total_2_Household Income\",\"Total_2_Asian Amer.\",\"Total_2_Black Amer.\",\"Total_2_Hispanic Amer.\",\"Total_2_White Amer.\", \"Total_2_Other\", \"Total_3_Zipcode\"], axis=1)\n",
    "print(updated_merge_df_3.head())  "
   ]
  },
  {
   "cell_type": "code",
   "execution_count": null,
   "metadata": {},
   "outputs": [],
   "source": [
    "#merging df_3 with 2019\n",
    "\n",
    "merge_df_4 = pd.merge(updated_merge_df_3,file_2019_df, on = \"Zipcode\")\n",
    "print(merge_df_4.head())"
   ]
  },
  {
   "cell_type": "code",
   "execution_count": null,
   "metadata": {},
   "outputs": [],
   "source": [
    "merge_df_4[\"Total_4_Household Income\"] = merge_df_4[\"Total_3_Household Income\"] + merge_df_4[\"Household Income\"]\n",
    "merge_df_4[\"Total_4_Asian Amer.\"] = merge_df_4[\"Total_3_Asian Amer.\"] + merge_df_4[\"Asian Amer.\"]\n",
    "merge_df_4[\"Total_4_Black Amer.\"] = merge_df_4[\"Total_3_Black Amer.\"] + merge_df_4[\"Black Amer.\"]\n",
    "merge_df_4[\"Total_4_Hispanic Amer.\"] = merge_df_4[\"Total_3_Hispanic Amer.\"] + merge_df_4[\"Hispanic Amer.\"]\n",
    "merge_df_4[\"Total_4_White Amer.\"] = merge_df_4[\"Total_3_White Amer.\"] + merge_df_4[\"White Amer.\"]\n",
    "merge_df_4[\"Total_4_Other\"] = merge_df_4[\"Total_3_Other\"] + merge_df_4[\"Other\"]\n",
    "merge_df_4[\"Total_4_Zipcode\"] = merge_df_4[\"Zipcode\"]\n",
    "\n",
    "print(merge_df_4.head())\n"
   ]
  },
  {
   "cell_type": "code",
   "execution_count": null,
   "metadata": {},
   "outputs": [],
   "source": [
    "##Final DataFrame of Total Information\n",
    "\n",
    "updated_merge_df_4 = merge_df_4.drop([\"Unnamed: 0\", \"Name\",\"Household Income\", \"Asian Amer.\", \"Black Amer.\", \"Hispanic Amer.\", \"White Amer.\", \"Other\", \"state_y\",\"Total_3_Household Income\",\"Total_3_Asian Amer.\",\"Total_3_Black Amer.\",\"Total_3_Hispanic Amer.\",\"Total_3_White Amer.\", \"Total_3_Other\", \"Total_4_Zipcode\"], axis=1)\n",
    "print(updated_merge_df_4.head())  \n",
    "print(len(updated_merge_df_4))"
   ]
  },
  {
   "cell_type": "code",
   "execution_count": null,
   "metadata": {},
   "outputs": [],
   "source": [
    "Total_Black_Amer = updated_merge_df_4.drop([])\n",
    "Total_Hispanic_Amer = updated_merge_df_4[\"Total_4_Hispanic Amer.\"]\n",
    "Total_White_Amer = updated_merge_df_4[\"Total_4_White Amer.\"]\n",
    "Total_Other_Amer = updated_merge_df_4[\"Total_4_Other\"]\n",
    "\n",
    "Total_Black_Amer.head()"
   ]
  },
  {
   "cell_type": "code",
   "execution_count": null,
   "metadata": {},
   "outputs": [],
   "source": [
    "updated_merge_df_4.head()"
   ]
  },
  {
   "cell_type": "code",
   "execution_count": null,
   "metadata": {},
   "outputs": [],
   "source": [
    "nomi.query_postal_code(\"07001\")"
   ]
  },
  {
   "cell_type": "code",
   "execution_count": null,
   "metadata": {},
   "outputs": [],
   "source": [
    "lats = []\n",
    "longs = []\n",
    "nomi = pgeocode.Nominatim('us')\n",
    "for zips in updated_merge_df_4['Zipcode']:\n",
    "    lat = nomi.query_postal_code(zips).latitude\n",
    "    long = nomi.query_postal_code(zips).longitude\n",
    "    lats.append(lat)\n",
    "    longs.append(long)\n",
    "\n",
    "updated_merge_df_4['lats'] = lats\n",
    "updated_merge_df_4['longs'] = longs\n",
    "\n",
    "updated_merge_df_4\n"
   ]
  },
  {
   "cell_type": "code",
   "execution_count": null,
   "metadata": {},
   "outputs": [],
   "source": [
    "# Configure gmaps\n",
    "gmaps.configure(gkey)\n",
    "#Define Locations and Weight\n",
    "locations = updated_merge_df_4[['Zipcode']]\n",
    "weights = updated_merge_df_4['Total_4_Household Income']\n",
    "#Create figure\n",
    "fig = gmaps.figure()\n",
    "#Create heat layer\n",
    "fig.add_layer(gmaps.heatmap_layer(locations, weights=weights, dissipating=False, point_radius=2.5))\n",
    "fig"
   ]
  },
  {
   "cell_type": "code",
   "execution_count": null,
   "metadata": {},
   "outputs": [],
   "source": []
  }
 ],
 "metadata": {
  "kernelspec": {
   "display_name": "Python 3",
   "language": "python",
   "name": "python3"
  },
  "language_info": {
   "codemirror_mode": {
    "name": "ipython",
    "version": 3
   },
   "file_extension": ".py",
   "mimetype": "text/x-python",
   "name": "python",
   "nbconvert_exporter": "python",
   "pygments_lexer": "ipython3",
   "version": "3.6.10"
  }
 },
 "nbformat": 4,
 "nbformat_minor": 4
}
