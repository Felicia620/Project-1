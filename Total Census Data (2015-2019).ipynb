{
 "cells": [
  {
   "cell_type": "code",
   "execution_count": 5,
   "metadata": {},
   "outputs": [],
   "source": [
    "#Dependencies\n",
    "import pandas as pd\n",
    "%matplotlib notebook\n",
    "import numpy as np\n",
    "import matplotlib.pyplot as plt\n",
    "\n",
    "\n",
    "file_2015 = \"Resources/2015CensusData.csv\"\n",
    "file_2016 = \"Resources/NewJerseyCensus2016.csv\"\n",
    "file_2017 = \"Resources/2017CensusData.csv\"\n",
    "file_2018 = \"Resources/2018CensusData.csv\"\n",
    "file_2019 = \"Resources/2019CensusData.csv\""
   ]
  },
  {
   "cell_type": "code",
   "execution_count": 6,
   "metadata": {},
   "outputs": [],
   "source": [
    "file_2015_df = pd.read_csv(file_2015)\n",
    "file_2016_df = pd.read_csv(file_2016)\n",
    "file_2017_df = pd.read_csv(file_2017)\n",
    "file_2018_df = pd.read_csv(file_2018)\n",
    "file_2019_df = pd.read_csv(file_2019)                     "
   ]
  },
  {
   "cell_type": "code",
   "execution_count": 10,
   "metadata": {},
   "outputs": [
    {
     "name": "stdout",
     "output_type": "stream",
     "text": [
      "     Unnamed: 0         Name  Household Income  Asian American  \\\n",
      "0         15064  ZCTA5 07504           50203.0             8.0   \n",
      "1         15065  ZCTA5 07505           28426.0            61.0   \n",
      "2         15066  ZCTA5 07506           89472.0           216.0   \n",
      "3         15067  ZCTA5 07508           75578.0           992.0   \n",
      "4         15068  ZCTA5 07512           96573.0           695.0   \n",
      "..          ...          ...               ...             ...   \n",
      "590       29950  ZCTA5 07481          143750.0           857.0   \n",
      "591       29951  ZCTA5 07495      -666666666.0             0.0   \n",
      "592       29952  ZCTA5 07501           25379.0           676.0   \n",
      "593       29953  ZCTA5 07502           54840.0          2562.0   \n",
      "594       29954  ZCTA5 07503           34867.0           606.0   \n",
      "\n",
      "     Black American  Hispanic American  White American    Other  state  \\\n",
      "0            6429.0             5587.0          2670.0   1946.0     34   \n",
      "1            1039.0             1676.0           862.0    805.0     34   \n",
      "2             299.0             3869.0         17369.0    702.0     34   \n",
      "3            1863.0             7521.0         16921.0   2136.0     34   \n",
      "4             422.0             1603.0          9115.0    442.0     34   \n",
      "..              ...                ...             ...      ...    ...   \n",
      "590            66.0              799.0         15911.0     67.0     34   \n",
      "591             0.0                0.0             0.0      0.0     34   \n",
      "592          9226.0            20727.0          8825.0  11691.0     34   \n",
      "593          3603.0             9684.0          6965.0   2480.0     34   \n",
      "594          1055.0            11533.0          9890.0   5781.0     34   \n",
      "\n",
      "     Zip Code  \n",
      "0        7504  \n",
      "1        7505  \n",
      "2        7506  \n",
      "3        7508  \n",
      "4        7512  \n",
      "..        ...  \n",
      "590      7481  \n",
      "591      7495  \n",
      "592      7501  \n",
      "593      7502  \n",
      "594      7503  \n",
      "\n",
      "[595 rows x 10 columns]\n"
     ]
    }
   ],
   "source": [
    "print(file_2016_df)"
   ]
  },
  {
   "cell_type": "code",
   "execution_count": 11,
   "metadata": {},
   "outputs": [
    {
     "name": "stdout",
     "output_type": "stream",
     "text": [
      "     Unnamed: 0         Name  Household Income  Asian Amer.  Black Amer.  \\\n",
      "0         15064  ZCTA5 07504           50203.0          8.0       6429.0   \n",
      "1         15065  ZCTA5 07505           28426.0         61.0       1039.0   \n",
      "2         15066  ZCTA5 07506           89472.0        216.0        299.0   \n",
      "3         15067  ZCTA5 07508           75578.0        992.0       1863.0   \n",
      "4         15068  ZCTA5 07512           96573.0        695.0        422.0   \n",
      "..          ...          ...               ...          ...          ...   \n",
      "590       29950  ZCTA5 07481          143750.0        857.0         66.0   \n",
      "591       29951  ZCTA5 07495      -666666666.0          0.0          0.0   \n",
      "592       29952  ZCTA5 07501           25379.0        676.0       9226.0   \n",
      "593       29953  ZCTA5 07502           54840.0       2562.0       3603.0   \n",
      "594       29954  ZCTA5 07503           34867.0        606.0       1055.0   \n",
      "\n",
      "     Hispanic Amer.  White Amer.    Other  state  Zipcode  \n",
      "0            5587.0       2670.0   1946.0     34     7504  \n",
      "1            1676.0        862.0    805.0     34     7505  \n",
      "2            3869.0      17369.0    702.0     34     7506  \n",
      "3            7521.0      16921.0   2136.0     34     7508  \n",
      "4            1603.0       9115.0    442.0     34     7512  \n",
      "..              ...          ...      ...    ...      ...  \n",
      "590           799.0      15911.0     67.0     34     7481  \n",
      "591             0.0          0.0      0.0     34     7495  \n",
      "592         20727.0       8825.0  11691.0     34     7501  \n",
      "593          9684.0       6965.0   2480.0     34     7502  \n",
      "594         11533.0       9890.0   5781.0     34     7503  \n",
      "\n",
      "[595 rows x 10 columns]\n"
     ]
    }
   ],
   "source": [
    "file_2016_df_new = file_2016_df.rename(columns={\"Household Income\": \"Household Income\",\n",
    "                                             \"Asian American\": \"Asian Amer.\",\n",
    "                                              \"Black American\": \"Black Amer.\",\n",
    "                                               \"Hispanic American\":\"Hispanic Amer.\",\n",
    "                                               \"White American\":\"White Amer.\",\n",
    "                                               \"Other\":\"Other\",\n",
    "                                               \"state\": \"state\",\n",
    "                                               \"Zip Code\": \"Zipcode\"})\n",
    "\n",
    "print(file_2016_df_new)"
   ]
  },
  {
   "cell_type": "code",
   "execution_count": 13,
   "metadata": {},
   "outputs": [
    {
     "name": "stdout",
     "output_type": "stream",
     "text": [
      "     Unnamed: 0_x       Name_x  Household Income_x  Asian Amer._x  \\\n",
      "0            9602  ZCTA5 07001             68036.0         3925.0   \n",
      "1            9603  ZCTA5 07002             54413.0         5822.0   \n",
      "2            9604  ZCTA5 07003             72791.0         4325.0   \n",
      "3            9605  ZCTA5 07004            106691.0          128.0   \n",
      "4            9606  ZCTA5 07005            100582.0         1085.0   \n",
      "..            ...          ...                 ...            ...   \n",
      "590         32652  ZCTA5 08011                 NaN            0.0   \n",
      "591         32873  ZCTA5 07977                 NaN           12.0   \n",
      "592         32926  ZCTA5 08038                 NaN            0.0   \n",
      "593         33081  ZCTA5 08073                 NaN            0.0   \n",
      "594         33098  ZCTA5 07846                 NaN            0.0   \n",
      "\n",
      "     Black Amer._x  Hispanic Amer._x  White Amer._x  Other_x  state_x  \\\n",
      "0           4449.0            2925.0         9123.0    423.0       34   \n",
      "1           7095.0           15375.0        46266.0   4194.0       34   \n",
      "2           8519.0           12854.0        29693.0   3624.0       34   \n",
      "3              0.0             282.0         7376.0     16.0       34   \n",
      "4            516.0            1309.0        13180.0    267.0       34   \n",
      "..             ...               ...            ...      ...      ...   \n",
      "590            0.0               0.0           45.0      0.0       34   \n",
      "591           39.0             199.0          509.0     49.0       34   \n",
      "592            0.0               0.0           85.0      0.0       34   \n",
      "593            0.0               0.0          311.0      0.0       34   \n",
      "594            0.0              45.0           95.0      0.0       34   \n",
      "\n",
      "     Zipcode  Unnamed: 0_y       Name_y  Household Income_y  Asian Amer._y  \\\n",
      "0       7001         29809  ZCTA5 07001             64821.0         3580.0   \n",
      "1       7002         29810  ZCTA5 07002             54862.0         6499.0   \n",
      "2       7003         29811  ZCTA5 07003             72881.0         4372.0   \n",
      "3       7004         29812  ZCTA5 07004            100313.0          250.0   \n",
      "4       7005         29813  ZCTA5 07005            104838.0         1229.0   \n",
      "..       ...           ...          ...                 ...            ...   \n",
      "590     8011         15235  ZCTA5 08011        -666666666.0            0.0   \n",
      "591     7977         15221  ZCTA5 07977             48289.0           15.0   \n",
      "592     8038         15256  ZCTA5 08038             49167.0            0.0   \n",
      "593     8073         15287  ZCTA5 08073            190938.0            0.0   \n",
      "594     7846         15172  ZCTA5 07846            202875.0            0.0   \n",
      "\n",
      "     Black Amer._y  Hispanic Amer._y  White Amer._y  Other_y  state_y  \n",
      "0           4673.0            3081.0         8926.0    643.0       34  \n",
      "1           6966.0           17089.0        44350.0   5450.0       34  \n",
      "2           8675.0           13348.0        30125.0   3441.0       34  \n",
      "3              0.0             313.0         7155.0     19.0       34  \n",
      "4            384.0            1473.0        13344.0    256.0       34  \n",
      "..             ...               ...            ...      ...      ...  \n",
      "590            0.0               0.0           62.0      0.0       34  \n",
      "591           42.0             180.0          488.0     52.0       34  \n",
      "592            0.0               0.0           57.0      0.0       34  \n",
      "593            0.0               0.0          329.0     37.0       34  \n",
      "594            0.0              41.0           58.0      0.0       34  \n",
      "\n",
      "[595 rows x 19 columns]\n"
     ]
    }
   ],
   "source": [
    "#eg. merge_df = pd.merge(info_df, items_df, on=\"customer_id\")\n",
    "\n",
    "merge_df_1 = pd.merge(file_2015_df, file_2016_df_new, on = \"Zipcode\")\n",
    "print(merge_df_1)"
   ]
  },
  {
   "cell_type": "code",
   "execution_count": 18,
   "metadata": {},
   "outputs": [
    {
     "name": "stdout",
     "output_type": "stream",
     "text": [
      "   Unnamed: 0_x       Name_x  Household Income_x  Asian Amer._x  \\\n",
      "0          9602  ZCTA5 07001             68036.0         3925.0   \n",
      "1          9603  ZCTA5 07002             54413.0         5822.0   \n",
      "2          9604  ZCTA5 07003             72791.0         4325.0   \n",
      "3          9605  ZCTA5 07004            106691.0          128.0   \n",
      "4          9606  ZCTA5 07005            100582.0         1085.0   \n",
      "\n",
      "   Black Amer._x  Hispanic Amer._x  White Amer._x  Other_x  state_x  Zipcode  \\\n",
      "0         4449.0            2925.0         9123.0    423.0       34     7001   \n",
      "1         7095.0           15375.0        46266.0   4194.0       34     7002   \n",
      "2         8519.0           12854.0        29693.0   3624.0       34     7003   \n",
      "3            0.0             282.0         7376.0     16.0       34     7004   \n",
      "4          516.0            1309.0        13180.0    267.0       34     7005   \n",
      "\n",
      "   ...  White Amer._y Other_y  state_y  Total_1_Household Income  \\\n",
      "0  ...         8926.0   643.0       34                  132857.0   \n",
      "1  ...        44350.0  5450.0       34                  109275.0   \n",
      "2  ...        30125.0  3441.0       34                  145672.0   \n",
      "3  ...         7155.0    19.0       34                  207004.0   \n",
      "4  ...        13344.0   256.0       34                  205420.0   \n",
      "\n",
      "   Total_1_Asian Amer.  Total_1_Black Amer.  Total_1_Hispanic Amer.  \\\n",
      "0               7505.0               9122.0                  6006.0   \n",
      "1              12321.0              14061.0                 32464.0   \n",
      "2               8697.0              17194.0                 26202.0   \n",
      "3                378.0                  0.0                   595.0   \n",
      "4               2314.0                900.0                  2782.0   \n",
      "\n",
      "   Total_1_White Amer.  Total_1_Other  Total_1_Zipcode  \n",
      "0              18049.0         1066.0             7001  \n",
      "1              90616.0         9644.0             7002  \n",
      "2              59818.0         7065.0             7003  \n",
      "3              14531.0           35.0             7004  \n",
      "4              26524.0          523.0             7005  \n",
      "\n",
      "[5 rows x 26 columns]\n"
     ]
    }
   ],
   "source": [
    "\n",
    "\n",
    "merge_df_1[\"Total_1_Household Income\"] = merge_df_1[\"Household Income_x\"] + merge_df_1[\"Household Income_y\"]\n",
    "merge_df_1[\"Total_1_Asian Amer.\"] = merge_df_1[\"Asian Amer._x\"] + merge_df_1[\"Asian Amer._y\"]\n",
    "merge_df_1[\"Total_1_Black Amer.\"] = merge_df_1[\"Black Amer._x\"] + merge_df_1[\"Black Amer._y\"]\n",
    "merge_df_1[\"Total_1_Hispanic Amer.\"] = merge_df_1[\"Hispanic Amer._x\"] + merge_df_1[\"Hispanic Amer._y\"]\n",
    "merge_df_1[\"Total_1_White Amer.\"] = merge_df_1[\"White Amer._x\"] + merge_df_1[\"White Amer._y\"]\n",
    "merge_df_1[\"Total_1_Other\"] = merge_df_1[\"Other_x\"] + merge_df_1[\"Other_y\"]\n",
    "merge_df_1[\"Total_1_Zipcode\"] = merge_df_1[\"Zipcode\"]\n",
    "\n",
    "print(merge_df_1.head())\n",
    "\n"
   ]
  },
  {
   "cell_type": "code",
   "execution_count": 21,
   "metadata": {},
   "outputs": [
    {
     "name": "stdout",
     "output_type": "stream",
     "text": [
      "   Zipcode  Unnamed: 0_y  state_y  Total_1_Household Income  \\\n",
      "0     7001         29809       34                  132857.0   \n",
      "1     7002         29810       34                  109275.0   \n",
      "2     7003         29811       34                  145672.0   \n",
      "3     7004         29812       34                  207004.0   \n",
      "4     7005         29813       34                  205420.0   \n",
      "\n",
      "   Total_1_Asian Amer.  Total_1_Black Amer.  Total_1_Hispanic Amer.  \\\n",
      "0               7505.0               9122.0                  6006.0   \n",
      "1              12321.0              14061.0                 32464.0   \n",
      "2               8697.0              17194.0                 26202.0   \n",
      "3                378.0                  0.0                   595.0   \n",
      "4               2314.0                900.0                  2782.0   \n",
      "\n",
      "   Total_1_White Amer.  Total_1_Other  \n",
      "0              18049.0         1066.0  \n",
      "1              90616.0         9644.0  \n",
      "2              59818.0         7065.0  \n",
      "3              14531.0           35.0  \n",
      "4              26524.0          523.0  \n"
     ]
    }
   ],
   "source": [
    "\n",
    "\n",
    "updated_merge_df_1 = merge_df_1.drop([\"Unnamed: 0_x\", \"Name_y\", \"Name_x\",\"Household Income_x\",\"Household Income_y\",\"Asian Amer._x\",\"Asian Amer._y\",\"Black Amer._x\", \"Black Amer._y\",\"Hispanic Amer._x\",\"Hispanic Amer._y\",\"White Amer._x\",\"White Amer._y\",\"Other_x\", \"Other_y\", \"state_x\", \"Total_1_Zipcode\"], axis=1)\n",
    "print(updated_merge_df_1.head())                               \n",
    "                                     "
   ]
  },
  {
   "cell_type": "code",
   "execution_count": 22,
   "metadata": {},
   "outputs": [
    {
     "name": "stdout",
     "output_type": "stream",
     "text": [
      "   Zipcode  Unnamed: 0_y  state_y  Total_1_Household Income  \\\n",
      "0     7001         29809       34                  132857.0   \n",
      "1     7002         29810       34                  109275.0   \n",
      "2     7003         29811       34                  145672.0   \n",
      "3     7004         29812       34                  207004.0   \n",
      "4     7005         29813       34                  205420.0   \n",
      "\n",
      "   Total_1_Asian Amer.  Total_1_Black Amer.  Total_1_Hispanic Amer.  \\\n",
      "0               7505.0               9122.0                  6006.0   \n",
      "1              12321.0              14061.0                 32464.0   \n",
      "2               8697.0              17194.0                 26202.0   \n",
      "3                378.0                  0.0                   595.0   \n",
      "4               2314.0                900.0                  2782.0   \n",
      "\n",
      "   Total_1_White Amer.  Total_1_Other  Unnamed: 0         Name  \\\n",
      "0              18049.0         1066.0        1963  ZCTA5 07001   \n",
      "1              90616.0         9644.0        1964  ZCTA5 07002   \n",
      "2              59818.0         7065.0        1965  ZCTA5 07003   \n",
      "3              14531.0           35.0        1966  ZCTA5 07004   \n",
      "4              26524.0          523.0        1967  ZCTA5 07005   \n",
      "\n",
      "   Household Income  Asian Amer.  Black Amer.  Hispanic Amer.  White Amer.  \\\n",
      "0           68426.0       3684.0       4650.0          3681.0       8683.0   \n",
      "1           56701.0       5982.0       7415.0         19751.0      43832.0   \n",
      "2           74961.0       4612.0       9142.0         13801.0      30547.0   \n",
      "3          107417.0        259.0          0.0           469.0       7248.0   \n",
      "4          109888.0       1314.0        299.0          1512.0      12999.0   \n",
      "\n",
      "    Other  state  \n",
      "0   846.0     34  \n",
      "1  6517.0     34  \n",
      "2  3199.0     34  \n",
      "3    19.0     34  \n",
      "4   292.0     34  \n"
     ]
    }
   ],
   "source": [
    "\n",
    "#merging df_1 with 2017\n",
    "\n",
    "merge_df_2 = pd.merge(updated_merge_df_1,file_2017_df, on=\"Zipcode\")\n",
    "print(merge_df_2.head())"
   ]
  },
  {
   "cell_type": "code",
   "execution_count": 23,
   "metadata": {},
   "outputs": [
    {
     "name": "stdout",
     "output_type": "stream",
     "text": [
      "   Zipcode  Unnamed: 0_y  state_y  Total_1_Household Income  \\\n",
      "0     7001         29809       34                  132857.0   \n",
      "1     7002         29810       34                  109275.0   \n",
      "2     7003         29811       34                  145672.0   \n",
      "3     7004         29812       34                  207004.0   \n",
      "4     7005         29813       34                  205420.0   \n",
      "\n",
      "   Total_1_Asian Amer.  Total_1_Black Amer.  Total_1_Hispanic Amer.  \\\n",
      "0               7505.0               9122.0                  6006.0   \n",
      "1              12321.0              14061.0                 32464.0   \n",
      "2               8697.0              17194.0                 26202.0   \n",
      "3                378.0                  0.0                   595.0   \n",
      "4               2314.0                900.0                  2782.0   \n",
      "\n",
      "   Total_1_White Amer.  Total_1_Other  Unnamed: 0  ... White Amer.   Other  \\\n",
      "0              18049.0         1066.0        1963  ...      8683.0   846.0   \n",
      "1              90616.0         9644.0        1964  ...     43832.0  6517.0   \n",
      "2              59818.0         7065.0        1965  ...     30547.0  3199.0   \n",
      "3              14531.0           35.0        1966  ...      7248.0    19.0   \n",
      "4              26524.0          523.0        1967  ...     12999.0   292.0   \n",
      "\n",
      "   state  Total_2_Household Income  Total_2_Asian Amer.  Total_2_Black Amer.  \\\n",
      "0     34                  201283.0              11189.0              13772.0   \n",
      "1     34                  165976.0              18303.0              21476.0   \n",
      "2     34                  220633.0              13309.0              26336.0   \n",
      "3     34                  314421.0                637.0                  0.0   \n",
      "4     34                  315308.0               3628.0               1199.0   \n",
      "\n",
      "   Total_2_Hispanic Amer.  Total_2_White Amer.  Total_2_Other  Total_2_Zipcode  \n",
      "0                  9687.0              26732.0         1912.0             7001  \n",
      "1                 52215.0             134448.0        16161.0             7002  \n",
      "2                 40003.0              90365.0        10264.0             7003  \n",
      "3                  1064.0              21779.0           54.0             7004  \n",
      "4                  4294.0              39523.0          815.0             7005  \n",
      "\n",
      "[5 rows x 25 columns]\n"
     ]
    }
   ],
   "source": [
    "merge_df_2[\"Total_2_Household Income\"] = merge_df_2[\"Total_1_Household Income\"] + merge_df_2[\"Household Income\"]\n",
    "merge_df_2[\"Total_2_Asian Amer.\"] = merge_df_2[\"Total_1_Asian Amer.\"] + merge_df_2[\"Asian Amer.\"]\n",
    "merge_df_2[\"Total_2_Black Amer.\"] = merge_df_2[\"Total_1_Black Amer.\"] + merge_df_2[\"Black Amer.\"]\n",
    "merge_df_2[\"Total_2_Hispanic Amer.\"] = merge_df_2[\"Total_1_Hispanic Amer.\"] + merge_df_2[\"Hispanic Amer.\"]\n",
    "merge_df_2[\"Total_2_White Amer.\"] = merge_df_2[\"Total_1_White Amer.\"] + merge_df_2[\"White Amer.\"]\n",
    "merge_df_2[\"Total_2_Other\"] = merge_df_2[\"Total_1_Other\"] + merge_df_2[\"Other\"]\n",
    "merge_df_2[\"Total_2_Zipcode\"] = merge_df_2[\"Zipcode\"]\n",
    "\n",
    "print(merge_df_2.head())"
   ]
  },
  {
   "cell_type": "code",
   "execution_count": 27,
   "metadata": {},
   "outputs": [
    {
     "name": "stdout",
     "output_type": "stream",
     "text": [
      "   Zipcode  Unnamed: 0         Name  state  Total_2_Household Income  \\\n",
      "0     7001        1963  ZCTA5 07001     34                  201283.0   \n",
      "1     7002        1964  ZCTA5 07002     34                  165976.0   \n",
      "2     7003        1965  ZCTA5 07003     34                  220633.0   \n",
      "3     7004        1966  ZCTA5 07004     34                  314421.0   \n",
      "4     7005        1967  ZCTA5 07005     34                  315308.0   \n",
      "\n",
      "   Total_2_Asian Amer.  Total_2_Black Amer.  Total_2_Hispanic Amer.  \\\n",
      "0              11189.0              13772.0                  9687.0   \n",
      "1              18303.0              21476.0                 52215.0   \n",
      "2              13309.0              26336.0                 40003.0   \n",
      "3                637.0                  0.0                  1064.0   \n",
      "4               3628.0               1199.0                  4294.0   \n",
      "\n",
      "   Total_2_White Amer.  Total_2_Other  \n",
      "0              26732.0         1912.0  \n",
      "1             134448.0        16161.0  \n",
      "2              90365.0        10264.0  \n",
      "3              21779.0           54.0  \n",
      "4              39523.0          815.0  \n"
     ]
    }
   ],
   "source": [
    "##Updated_New_Jersey_Census_2018 = New_Jersey_Census_2018.drop([\"B05002_001E\"], axis=1)\n",
    "\n",
    "updated_merge_df_2 = merge_df_2.drop([\"Household Income\", \"Asian Amer.\",\"Black Amer.\", \"Hispanic Amer.\",\"Unnamed: 0_y\", \"state_y\",\"Total_1_Household Income\",\"Total_1_Asian Amer.\",\"Total_1_Black Amer.\",\"Total_1_Hispanic Amer.\",\"Total_1_White Amer.\", \"Total_1_Other\",\"White Amer.\", \"Other\", \"Total_2_Zipcode\"], axis=1)\n",
    "print(updated_merge_df_2.head())  \n"
   ]
  },
  {
   "cell_type": "code",
   "execution_count": 29,
   "metadata": {},
   "outputs": [
    {
     "name": "stdout",
     "output_type": "stream",
     "text": [
      "   Zipcode  Unnamed: 0_x       Name_x  state_x  Total_2_Household Income  \\\n",
      "0     7001          1963  ZCTA5 07001       34                  201283.0   \n",
      "1     7002          1964  ZCTA5 07002       34                  165976.0   \n",
      "2     7003          1965  ZCTA5 07003       34                  220633.0   \n",
      "3     7004          1966  ZCTA5 07004       34                  314421.0   \n",
      "4     7005          1967  ZCTA5 07005       34                  315308.0   \n",
      "\n",
      "   Total_2_Asian Amer.  Total_2_Black Amer.  Total_2_Hispanic Amer.  \\\n",
      "0              11189.0              13772.0                  9687.0   \n",
      "1              18303.0              21476.0                 52215.0   \n",
      "2              13309.0              26336.0                 40003.0   \n",
      "3                637.0                  0.0                  1064.0   \n",
      "4               3628.0               1199.0                  4294.0   \n",
      "\n",
      "   Total_2_White Amer.  Total_2_Other  Unnamed: 0_y       Name_y  \\\n",
      "0              26732.0         1912.0          1963  ZCTA5 07001   \n",
      "1             134448.0        16161.0          1964  ZCTA5 07002   \n",
      "2              90365.0        10264.0          1965  ZCTA5 07003   \n",
      "3              21779.0           54.0          1966  ZCTA5 07004   \n",
      "4              39523.0          815.0          1967  ZCTA5 07005   \n",
      "\n",
      "   Household Income  Asian Amer.  Black Amer.  Hispanic Amer.  White Amer.  \\\n",
      "0           71943.0       3695.0       4362.0          3714.0       8971.0   \n",
      "1           59924.0       6435.0       7510.0         20534.0      41368.0   \n",
      "2           76487.0       4273.0       9744.0         13969.0      30144.0   \n",
      "3          117750.0        313.0          0.0           594.0       6920.0   \n",
      "4          111380.0       1468.0        481.0          1522.0      12498.0   \n",
      "\n",
      "    Other  state_y  \n",
      "0   821.0       34  \n",
      "1  7325.0       34  \n",
      "2  3268.0       34  \n",
      "3    18.0       34  \n",
      "4   261.0       34  \n"
     ]
    }
   ],
   "source": [
    "\n",
    "#merging df_2 with 2018\n",
    "\n",
    "merge_df_3 = pd.merge(updated_merge_df_2,file_2018_df, on = \"Zipcode\")\n",
    "print(merge_df_3.head())"
   ]
  },
  {
   "cell_type": "code",
   "execution_count": 30,
   "metadata": {},
   "outputs": [
    {
     "name": "stdout",
     "output_type": "stream",
     "text": [
      "   Zipcode  Unnamed: 0_x       Name_x  state_x  Total_2_Household Income  \\\n",
      "0     7001          1963  ZCTA5 07001       34                  201283.0   \n",
      "1     7002          1964  ZCTA5 07002       34                  165976.0   \n",
      "2     7003          1965  ZCTA5 07003       34                  220633.0   \n",
      "3     7004          1966  ZCTA5 07004       34                  314421.0   \n",
      "4     7005          1967  ZCTA5 07005       34                  315308.0   \n",
      "\n",
      "   Total_2_Asian Amer.  Total_2_Black Amer.  Total_2_Hispanic Amer.  \\\n",
      "0              11189.0              13772.0                  9687.0   \n",
      "1              18303.0              21476.0                 52215.0   \n",
      "2              13309.0              26336.0                 40003.0   \n",
      "3                637.0                  0.0                  1064.0   \n",
      "4               3628.0               1199.0                  4294.0   \n",
      "\n",
      "   Total_2_White Amer.  Total_2_Other  ...  White Amer.   Other  state_y  \\\n",
      "0              26732.0         1912.0  ...       8971.0   821.0       34   \n",
      "1             134448.0        16161.0  ...      41368.0  7325.0       34   \n",
      "2              90365.0        10264.0  ...      30144.0  3268.0       34   \n",
      "3              21779.0           54.0  ...       6920.0    18.0       34   \n",
      "4              39523.0          815.0  ...      12498.0   261.0       34   \n",
      "\n",
      "   Total_3_Household Income  Total_3_Asian Amer.  Total_3_Black Amer.  \\\n",
      "0                  273226.0              14884.0              18134.0   \n",
      "1                  225900.0              24738.0              28986.0   \n",
      "2                  297120.0              17582.0              36080.0   \n",
      "3                  432171.0                950.0                  0.0   \n",
      "4                  426688.0               5096.0               1680.0   \n",
      "\n",
      "   Total_3_Hispanic Amer.  Total_3_White Amer.  Total_3_Other  Total_3_Zipcode  \n",
      "0                 13401.0              35703.0         2733.0             7001  \n",
      "1                 72749.0             175816.0        23486.0             7002  \n",
      "2                 53972.0             120509.0        13532.0             7003  \n",
      "3                  1658.0              28699.0           72.0             7004  \n",
      "4                  5816.0              52021.0         1076.0             7005  \n",
      "\n",
      "[5 rows x 26 columns]\n"
     ]
    }
   ],
   "source": [
    "merge_df_3[\"Total_3_Household Income\"] = merge_df_3[\"Total_2_Household Income\"] + merge_df_3[\"Household Income\"]\n",
    "merge_df_3[\"Total_3_Asian Amer.\"] = merge_df_3[\"Total_2_Asian Amer.\"] + merge_df_3[\"Asian Amer.\"]\n",
    "merge_df_3[\"Total_3_Black Amer.\"] = merge_df_3[\"Total_2_Black Amer.\"] + merge_df_3[\"Black Amer.\"]\n",
    "merge_df_3[\"Total_3_Hispanic Amer.\"] = merge_df_3[\"Total_2_Hispanic Amer.\"] + merge_df_3[\"Hispanic Amer.\"]\n",
    "merge_df_3[\"Total_3_White Amer.\"] = merge_df_3[\"Total_2_White Amer.\"] + merge_df_3[\"White Amer.\"]\n",
    "merge_df_3[\"Total_3_Other\"] = merge_df_3[\"Total_2_Other\"] + merge_df_3[\"Other\"]\n",
    "merge_df_3[\"Total_3_Zipcode\"] = merge_df_3[\"Zipcode\"]\n",
    "\n",
    "print(merge_df_3.head())"
   ]
  },
  {
   "cell_type": "code",
   "execution_count": 34,
   "metadata": {},
   "outputs": [
    {
     "name": "stdout",
     "output_type": "stream",
     "text": [
      "   Zipcode  state_y  Total_3_Household Income  Total_3_Asian Amer.  \\\n",
      "0     7001       34                  273226.0              14884.0   \n",
      "1     7002       34                  225900.0              24738.0   \n",
      "2     7003       34                  297120.0              17582.0   \n",
      "3     7004       34                  432171.0                950.0   \n",
      "4     7005       34                  426688.0               5096.0   \n",
      "\n",
      "   Total_3_Black Amer.  Total_3_Hispanic Amer.  Total_3_White Amer.  \\\n",
      "0              18134.0                 13401.0              35703.0   \n",
      "1              28986.0                 72749.0             175816.0   \n",
      "2              36080.0                 53972.0             120509.0   \n",
      "3                  0.0                  1658.0              28699.0   \n",
      "4               1680.0                  5816.0              52021.0   \n",
      "\n",
      "   Total_3_Other  \n",
      "0         2733.0  \n",
      "1        23486.0  \n",
      "2        13532.0  \n",
      "3           72.0  \n",
      "4         1076.0  \n"
     ]
    }
   ],
   "source": [
    "\n",
    "updated_merge_df_3 = merge_df_3.drop([\"Unnamed: 0_x\",\"Name_x\",\"state_x\", \"Unnamed: 0_y\", \"Name_y\", \"Household Income\", \"Asian Amer.\", \"Black Amer.\", \"Hispanic Amer.\", \"White Amer.\", \"Other\", \"Total_2_Household Income\",\"Total_2_Asian Amer.\",\"Total_2_Black Amer.\",\"Total_2_Hispanic Amer.\",\"Total_2_White Amer.\", \"Total_2_Other\", \"Total_3_Zipcode\"], axis=1)\n",
    "print(updated_merge_df_3.head())  "
   ]
  },
  {
   "cell_type": "code",
   "execution_count": 35,
   "metadata": {},
   "outputs": [
    {
     "name": "stdout",
     "output_type": "stream",
     "text": [
      "   Zipcode  state_y  Total_3_Household Income  Total_3_Asian Amer.  \\\n",
      "0     7001       34                  273226.0              14884.0   \n",
      "1     7002       34                  225900.0              24738.0   \n",
      "2     7003       34                  297120.0              17582.0   \n",
      "3     7004       34                  432171.0                950.0   \n",
      "4     7005       34                  426688.0               5096.0   \n",
      "\n",
      "   Total_3_Black Amer.  Total_3_Hispanic Amer.  Total_3_White Amer.  \\\n",
      "0              18134.0                 13401.0              35703.0   \n",
      "1              28986.0                 72749.0             175816.0   \n",
      "2              36080.0                 53972.0             120509.0   \n",
      "3                  0.0                  1658.0              28699.0   \n",
      "4               1680.0                  5816.0              52021.0   \n",
      "\n",
      "   Total_3_Other  Unnamed: 0         Name  Household Income  Asian Amer.  \\\n",
      "0         2733.0        1963  ZCTA5 07001           69849.0       3542.0   \n",
      "1        23486.0        1964  ZCTA5 07002           63947.0       6466.0   \n",
      "2        13532.0        1965  ZCTA5 07003           78034.0       4323.0   \n",
      "3           72.0        1966  ZCTA5 07004          122063.0        271.0   \n",
      "4         1076.0        1967  ZCTA5 07005          111946.0       1415.0   \n",
      "\n",
      "   Black Amer.  Hispanic Amer.  White Amer.   Other  state  \n",
      "0       4058.0          3638.0       9250.0   624.0     34  \n",
      "1       6888.0         21788.0      40770.0  7767.0     34  \n",
      "2       9923.0         14494.0      30152.0  3262.0     34  \n",
      "3          0.0           817.0       7005.0     0.0     34  \n",
      "4        480.0          1449.0      12680.0   128.0     34  \n"
     ]
    }
   ],
   "source": [
    "#merging df_3 with 2019\n",
    "\n",
    "merge_df_4 = pd.merge(updated_merge_df_3,file_2019_df, on = \"Zipcode\")\n",
    "print(merge_df_4.head())"
   ]
  },
  {
   "cell_type": "code",
   "execution_count": 36,
   "metadata": {},
   "outputs": [
    {
     "name": "stdout",
     "output_type": "stream",
     "text": [
      "   Zipcode  state_y  Total_3_Household Income  Total_3_Asian Amer.  \\\n",
      "0     7001       34                  273226.0              14884.0   \n",
      "1     7002       34                  225900.0              24738.0   \n",
      "2     7003       34                  297120.0              17582.0   \n",
      "3     7004       34                  432171.0                950.0   \n",
      "4     7005       34                  426688.0               5096.0   \n",
      "\n",
      "   Total_3_Black Amer.  Total_3_Hispanic Amer.  Total_3_White Amer.  \\\n",
      "0              18134.0                 13401.0              35703.0   \n",
      "1              28986.0                 72749.0             175816.0   \n",
      "2              36080.0                 53972.0             120509.0   \n",
      "3                  0.0                  1658.0              28699.0   \n",
      "4               1680.0                  5816.0              52021.0   \n",
      "\n",
      "   Total_3_Other  Unnamed: 0         Name  ...  White Amer.   Other  state  \\\n",
      "0         2733.0        1963  ZCTA5 07001  ...       9250.0   624.0     34   \n",
      "1        23486.0        1964  ZCTA5 07002  ...      40770.0  7767.0     34   \n",
      "2        13532.0        1965  ZCTA5 07003  ...      30152.0  3262.0     34   \n",
      "3           72.0        1966  ZCTA5 07004  ...       7005.0     0.0     34   \n",
      "4         1076.0        1967  ZCTA5 07005  ...      12680.0   128.0     34   \n",
      "\n",
      "   Total_4_Household Income  Total_4_Asian Amer.  Total_4_Black Amer.  \\\n",
      "0                  343075.0              18426.0              22192.0   \n",
      "1                  289847.0              31204.0              35874.0   \n",
      "2                  375154.0              21905.0              46003.0   \n",
      "3                  554234.0               1221.0                  0.0   \n",
      "4                  538634.0               6511.0               2160.0   \n",
      "\n",
      "   Total_4_Hispanic Amer.  Total_4_White Amer.  Total_4_Other  Total_4_Zipcode  \n",
      "0                 17039.0              44953.0         3357.0             7001  \n",
      "1                 94537.0             216586.0        31253.0             7002  \n",
      "2                 68466.0             150661.0        16794.0             7003  \n",
      "3                  2475.0              35704.0           72.0             7004  \n",
      "4                  7265.0              64701.0         1204.0             7005  \n",
      "\n",
      "[5 rows x 24 columns]\n"
     ]
    }
   ],
   "source": [
    "merge_df_4[\"Total_4_Household Income\"] = merge_df_4[\"Total_3_Household Income\"] + merge_df_4[\"Household Income\"]\n",
    "merge_df_4[\"Total_4_Asian Amer.\"] = merge_df_4[\"Total_3_Asian Amer.\"] + merge_df_4[\"Asian Amer.\"]\n",
    "merge_df_4[\"Total_4_Black Amer.\"] = merge_df_4[\"Total_3_Black Amer.\"] + merge_df_4[\"Black Amer.\"]\n",
    "merge_df_4[\"Total_4_Hispanic Amer.\"] = merge_df_4[\"Total_3_Hispanic Amer.\"] + merge_df_4[\"Hispanic Amer.\"]\n",
    "merge_df_4[\"Total_4_White Amer.\"] = merge_df_4[\"Total_3_White Amer.\"] + merge_df_4[\"White Amer.\"]\n",
    "merge_df_4[\"Total_4_Other\"] = merge_df_4[\"Total_3_Other\"] + merge_df_4[\"Other\"]\n",
    "merge_df_4[\"Total_4_Zipcode\"] = merge_df_4[\"Zipcode\"]\n",
    "\n",
    "print(merge_df_4.head())\n"
   ]
  },
  {
   "cell_type": "code",
   "execution_count": 40,
   "metadata": {},
   "outputs": [
    {
     "name": "stdout",
     "output_type": "stream",
     "text": [
      "   Zipcode  state  Total_4_Household Income  Total_4_Asian Amer.  \\\n",
      "0     7001     34                  343075.0              18426.0   \n",
      "1     7002     34                  289847.0              31204.0   \n",
      "2     7003     34                  375154.0              21905.0   \n",
      "3     7004     34                  554234.0               1221.0   \n",
      "4     7005     34                  538634.0               6511.0   \n",
      "\n",
      "   Total_4_Black Amer.  Total_4_Hispanic Amer.  Total_4_White Amer.  \\\n",
      "0              22192.0                 17039.0              44953.0   \n",
      "1              35874.0                 94537.0             216586.0   \n",
      "2              46003.0                 68466.0             150661.0   \n",
      "3                  0.0                  2475.0              35704.0   \n",
      "4               2160.0                  7265.0              64701.0   \n",
      "\n",
      "   Total_4_Other  \n",
      "0         3357.0  \n",
      "1        31253.0  \n",
      "2        16794.0  \n",
      "3           72.0  \n",
      "4         1204.0  \n",
      "595\n"
     ]
    }
   ],
   "source": [
    "##Final DataFrame of Total Information\n",
    "\n",
    "updated_merge_df_4 = merge_df_4.drop([\"Unnamed: 0\", \"Name\",\"Household Income\", \"Asian Amer.\", \"Black Amer.\", \"Hispanic Amer.\", \"White Amer.\", \"Other\", \"state_y\",\"Total_3_Household Income\",\"Total_3_Asian Amer.\",\"Total_3_Black Amer.\",\"Total_3_Hispanic Amer.\",\"Total_3_White Amer.\", \"Total_3_Other\", \"Total_4_Zipcode\"], axis=1)\n",
    "print(updated_merge_df_4.head())  \n",
    "print(len(updated_merge_df_4))"
   ]
  },
  {
   "cell_type": "code",
   "execution_count": null,
   "metadata": {},
   "outputs": [],
   "source": []
  }
 ],
 "metadata": {
  "kernelspec": {
   "display_name": "Python 3",
   "language": "python",
   "name": "python3"
  },
  "language_info": {
   "codemirror_mode": {
    "name": "ipython",
    "version": 3
   },
   "file_extension": ".py",
   "mimetype": "text/x-python",
   "name": "python",
   "nbconvert_exporter": "python",
   "pygments_lexer": "ipython3",
   "version": "3.6.10"
  }
 },
 "nbformat": 4,
 "nbformat_minor": 4
}
